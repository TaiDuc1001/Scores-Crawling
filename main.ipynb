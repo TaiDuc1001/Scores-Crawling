{
 "cells": [
  {
   "cell_type": "markdown",
   "metadata": {},
   "source": [
    "## Import libraries"
   ]
  },
  {
   "cell_type": "code",
   "execution_count": 1,
   "metadata": {},
   "outputs": [],
   "source": [
    "import pandas as pd\n",
    "import requests\n",
    "from bs4 import BeautifulSoup\n",
    "import csv"
   ]
  },
  {
   "cell_type": "markdown",
   "metadata": {},
   "source": [
    "## Test requests and soup"
   ]
  },
  {
   "cell_type": "code",
   "execution_count": 2,
   "metadata": {},
   "outputs": [],
   "source": [
    "index = \"07003839\"\n",
    "url = f\"https://vietnamnet.vn/giao-duc/diem-thi/tra-cuu-diem-thi-tot-nghiep-thpt/2023/{index}.html\"\n",
    "respone = requests.get(url)"
   ]
  },
  {
   "cell_type": "code",
   "execution_count": 180,
   "metadata": {},
   "outputs": [
    {
     "data": {
      "text/plain": [
       "404"
      ]
     },
     "execution_count": 180,
     "metadata": {},
     "output_type": "execute_result"
    }
   ],
   "source": [
    "respone.status_code"
   ]
  },
  {
   "cell_type": "code",
   "execution_count": 181,
   "metadata": {},
   "outputs": [],
   "source": [
    "index = \"07003838\"\n",
    "url = f\"https://vietnamnet.vn/giao-duc/diem-thi/tra-cuu-diem-thi-tot-nghiep-thpt/2023/{index}.html\"\n",
    "respone = requests.get(url)"
   ]
  },
  {
   "cell_type": "code",
   "execution_count": 182,
   "metadata": {},
   "outputs": [
    {
     "data": {
      "text/plain": [
       "int"
      ]
     },
     "execution_count": 182,
     "metadata": {},
     "output_type": "execute_result"
    }
   ],
   "source": [
    "type(respone.status_code)"
   ]
  },
  {
   "cell_type": "code",
   "execution_count": 183,
   "metadata": {},
   "outputs": [
    {
     "data": {
      "text/plain": [
       "[<td>Toán</td>,\n",
       " <td>4.8</td>,\n",
       " <td>Văn</td>,\n",
       " <td>5.75</td>,\n",
       " <td>Sử</td>,\n",
       " <td>4.25</td>,\n",
       " <td>Địa</td>,\n",
       " <td>5</td>,\n",
       " <td>Ngoại ngữ</td>,\n",
       " <td>3.2</td>,\n",
       " <td>GDCD</td>,\n",
       " <td>7</td>]"
      ]
     },
     "execution_count": 183,
     "metadata": {},
     "output_type": "execute_result"
    }
   ],
   "source": [
    "soup = BeautifulSoup(respone.content, 'html.parser')\n",
    "table = soup.find('div', class_='resultSearch__right')\n",
    "rows = table.find_all('td')\n",
    "rows"
   ]
  },
  {
   "cell_type": "markdown",
   "metadata": {},
   "source": [
    "## Create columns"
   ]
  },
  {
   "cell_type": "code",
   "execution_count": 6,
   "metadata": {},
   "outputs": [],
   "source": [
    "columns = ['So Bao Danh', 'Toan', 'Van', 'Li', 'Hoa', 'Sinh', 'Su', 'Dia', 'GDCD','Ngoai Ngu']"
   ]
  },
  {
   "cell_type": "markdown",
   "metadata": {},
   "source": [
    "## Rewrite file csv and import the columns"
   ]
  },
  {
   "cell_type": "code",
   "execution_count": 7,
   "metadata": {},
   "outputs": [],
   "source": [
    "with open('data2.csv', mode='w', newline='') as file:\n",
    "    writer = csv.writer(file)\n",
    "    writer.writerow(columns)"
   ]
  },
  {
   "cell_type": "markdown",
   "metadata": {},
   "source": [
    "## Define nullToMinus1 function"
   ]
  },
  {
   "cell_type": "code",
   "execution_count": 3,
   "metadata": {},
   "outputs": [],
   "source": [
    "def nullToMinus1():\n",
    "\tfor i in range(len(scores)):\n",
    "\t\tif scores[i]=='':\n",
    "\t\t\tscores[i] = '-1'    "
   ]
  },
  {
   "cell_type": "markdown",
   "metadata": {},
   "source": [
    "## Main crawling process"
   ]
  },
  {
   "cell_type": "code",
   "execution_count": 11,
   "metadata": {},
   "outputs": [
    {
     "name": "stdout",
     "output_type": "stream",
     "text": [
      "Index: 63\n",
      "Index: 64\n"
     ]
    }
   ],
   "source": [
    "boolean = True\n",
    "for m in range(63, 65):\n",
    "\tindex = -1\n",
    "\tprint(f\"Index: {m}\")\n",
    "\tm = m*1000000 + 1\n",
    "\t# index = 3830\n",
    " \n",
    "\twhile boolean:\n",
    "\t\tindex += 1\n",
    "\t\tidx = m + index\n",
    "\t\turl = f\"https://vietnamnet.vn/giao-duc/diem-thi/tra-cuu-diem-thi-tot-nghiep-thpt/2023/{idx}.html\"\n",
    "\t\trespone = requests.get(url)\n",
    "\t\tif respone.status_code == 404:\n",
    "\t\t\tbreak\n",
    "\t\telif respone.status_code == 200:\n",
    "\t\t\tscores = [f\"{idx}\", '', '', '', '', '', '', '', '', ''];\n",
    "\t\t\tsoup = BeautifulSoup(respone.content, 'html.parser')\n",
    "\t\t\ttable = soup.find('div', class_='resultSearch__right')\n",
    "\t\t\trows = table.find_all('td')\n",
    "\t\n",
    "\t\t\tfor row_id, row in enumerate(rows):\n",
    "\t\t\t\t# print(f\"Row[{row_id}]: {row.text.strip()}\")\n",
    "\t\t\t\tif row.text.strip() == 'Toán':\n",
    "\t\t\t\t\tscores[1] = rows[row_id+1].text.strip() \n",
    "\t\t\t\telif row.text.strip() == 'Văn':\n",
    "\t\t\t\t\tscores[2] = rows[row_id+1].text.strip() \n",
    "\t\t\t\telif row.text.strip() == 'Lí':\n",
    "\t\t\t\t\tscores[3] = rows[row_id+1].text.strip() \n",
    "\t\t\t\telif row.text.strip() == 'Hoá':\n",
    "\t\t\t\t\tscores[4] = rows[row_id+1].text.strip() \n",
    "\t\t\t\telif row.text.strip() == 'Sinh':\n",
    "\t\t\t\t\tscores[5] = rows[row_id+1].text.strip() \n",
    "\t\t\t\telif row.text.strip() == 'Sử':\n",
    "\t\t\t\t\tscores[6] = rows[row_id+1].text.strip() \n",
    "\t\t\t\telif row.text.strip() == 'Địa':\n",
    "\t\t\t\t\tscores[7] = rows[row_id+1].text.strip() \n",
    "\t\t\t\telif row.text.strip() == 'GDCD':\n",
    "\t\t\t\t\tscores[8] = rows[row_id+1].text.strip() \n",
    "\t\t\t\telif row.text.strip() == 'Ngoại ngữ':\n",
    "\t\t\t\t\tscores[9] = rows[row_id+1].text.strip() \n",
    "\t\t\t\tnullToMinus1()\n",
    "\n",
    "\t\t\twith open('./data/data.csv', mode='a', newline='') as file:\n",
    "\t\t\t\twriter = csv.writer(file)\n",
    "\t\t\t\twriter.writerow(scores)\n",
    "\t\t\t"
   ]
  },
  {
   "cell_type": "code",
   "execution_count": 10,
   "metadata": {},
   "outputs": [],
   "source": [
    "for index in range(3637, 80000):\n",
    "    idx = 62000001 + index\n",
    "    url = f\"https://vietnamnet.vn/giao-duc/diem-thi/tra-cuu-diem-thi-tot-nghiep-thpt/2023/{idx}.html\"\n",
    "    respone = requests.get(url)\n",
    "    if respone.status_code == 404:\n",
    "        break\n",
    "    elif respone.status_code == 200:\n",
    "        scores = [f\"{idx}\", '', '', '', '', '', '', '', '', ''];\n",
    "        soup = BeautifulSoup(respone.content, 'html.parser')\n",
    "        table = soup.find('div', class_='resultSearch__right')\n",
    "        rows = table.find_all('td')\n",
    "\n",
    "        for row_id, row in enumerate(rows):\n",
    "            # print(f\"Row[{row_id}]: {row.text.strip()}\")\n",
    "            if row.text.strip() == 'Toán':\n",
    "                scores[1] = rows[row_id+1].text.strip() \n",
    "            elif row.text.strip() == 'Văn':\n",
    "                scores[2] = rows[row_id+1].text.strip() \n",
    "            elif row.text.strip() == 'Lí':\n",
    "                scores[3] = rows[row_id+1].text.strip() \n",
    "            elif row.text.strip() == 'Hoá':\n",
    "                scores[4] = rows[row_id+1].text.strip() \n",
    "            elif row.text.strip() == 'Sinh':\n",
    "                scores[5] = rows[row_id+1].text.strip() \n",
    "            elif row.text.strip() == 'Sử':\n",
    "                scores[6] = rows[row_id+1].text.strip() \n",
    "            elif row.text.strip() == 'Địa':\n",
    "                scores[7] = rows[row_id+1].text.strip() \n",
    "            elif row.text.strip() == 'GDCD':\n",
    "                scores[8] = rows[row_id+1].text.strip() \n",
    "            elif row.text.strip() == 'Ngoại ngữ':\n",
    "                scores[9] = rows[row_id+1].text.strip() \n",
    "            nullToMinus1()\n",
    "\n",
    "        with open('./data/data.csv', mode='a', newline='') as file:\n",
    "            writer = csv.writer(file)\n",
    "            writer.writerow(scores)\n",
    "        "
   ]
  }
 ],
 "metadata": {
  "kernelspec": {
   "display_name": "venv",
   "language": "python",
   "name": "python3"
  },
  "language_info": {
   "codemirror_mode": {
    "name": "ipython",
    "version": 3
   },
   "file_extension": ".py",
   "mimetype": "text/x-python",
   "name": "python",
   "nbconvert_exporter": "python",
   "pygments_lexer": "ipython3",
   "version": "3.11.4"
  },
  "orig_nbformat": 4
 },
 "nbformat": 4,
 "nbformat_minor": 2
}
